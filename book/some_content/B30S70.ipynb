{
 "cells": [
  {
   "cell_type": "code",
   "execution_count": null,
   "id": "104370ed",
   "metadata": {},
   "outputs": [],
   "source": []
  },
  {
   "cell_type": "code",
   "execution_count": 1,
   "id": "70e74603",
   "metadata": {
    "tags": [
     "remove-cell"
    ]
   },
   "outputs": [],
   "source": [
    "import pandas as pd\n",
    "import numpy as np\n",
    "import matplotlib.pyplot as plt\n",
    "\n",
    "def plot_tga_dtg_zone(\n",
    "    tga_file: str,\n",
    "    dtg_file: str,\n",
    "    x_start: float,\n",
    "    x_end: float,\n",
    "    skiprows: int = 30\n",
    ") -> float:\n",
    "    \"\"\"\n",
    "    Loads TGA and DTG CSV files, plots them together, shades a temperature window\n",
    "    between x_start and x_end, shades the corresponding TGA weight-difference\n",
    "    region on the y-axis, annotates ΔWeight, and returns the weight difference.\n",
    "\n",
    "    Parameters\n",
    "    ----------\n",
    "    tga_file : str\n",
    "        Path to the TGA CSV (no header, skiprows rows of metadata).\n",
    "    dtg_file : str\n",
    "        Path to the DTG CSV (header=0, skiprows rows of metadata).\n",
    "    x_start : float\n",
    "        Lower temperature bound of the shaded zone (°C).\n",
    "    x_end : float\n",
    "        Upper temperature bound of the shaded zone (°C).\n",
    "    skiprows : int, optional\n",
    "        Number of rows to skip at the top of each CSV, by default 30\n",
    "\n",
    "    Returns\n",
    "    -------\n",
    "    float\n",
    "        The difference in TGA weight (%) between x_start and x_end.\n",
    "    \"\"\"\n",
    "    # --- 1. LOAD & CLEAN TGA DATA ---\n",
    "    df_tga = pd.read_csv(\n",
    "        tga_file,\n",
    "        encoding=\"ISO-8859-1\",\n",
    "        skiprows=skiprows,\n",
    "        header=None\n",
    "    )\n",
    "    ncols = df_tga.shape[1]\n",
    "    cols = [\"Temperature\", \"Time\", \"Value\", \"Weight%\"] + \\\n",
    "           [f\"Other{i}\" for i in range(1, ncols - 3)]\n",
    "    df_tga.columns = cols\n",
    "    df_tga = df_tga[[\"Temperature\", \"Weight%\"]].dropna()\n",
    "    df_tga[\"Temperature\"] = pd.to_numeric(df_tga[\"Temperature\"], errors=\"coerce\")\n",
    "    df_tga[\"Weight%\"]     = pd.to_numeric(df_tga[\"Weight%\"],     errors=\"coerce\")\n",
    "\n",
    "    # --- 2. LOAD & CLEAN DTG DATA ---\n",
    "    df_dtg = pd.read_csv(\n",
    "        dtg_file,\n",
    "        encoding=\"ISO-8859-1\",\n",
    "        skiprows=skiprows,\n",
    "        header=0\n",
    "    )\n",
    "    df_dtg.columns = [\n",
    "        \"Temperature\", \"Time\", \"DSC\", \"Mass%\",\n",
    "        \"GasFlow1\", \"GasFlow2\", \"GasFlow3\",\n",
    "        \"DTG\", \"Sensitivity\"\n",
    "    ]\n",
    "    df_dtg = df_dtg[[\"Temperature\", \"DTG\"]].dropna()\n",
    "    df_dtg[\"Temperature\"] = pd.to_numeric(df_dtg[\"Temperature\"], errors=\"coerce\")\n",
    "    df_dtg[\"DTG\"]         = pd.to_numeric(df_dtg[\"DTG\"],         errors=\"coerce\")\n",
    "\n",
    "    # --- 3. INTERPOLATE TGA WEIGHT AT x_start & x_end ---\n",
    "    w_start     = np.interp(x_start, df_tga[\"Temperature\"], df_tga[\"Weight%\"])\n",
    "    w_end       = np.interp(x_end,   df_tga[\"Temperature\"], df_tga[\"Weight%\"])\n",
    "    weight_diff = w_start - w_end\n",
    "\n",
    "    # --- 4. PLOT EVERYTHING ---\n",
    "    fig, ax1 = plt.subplots(figsize=(8, 6))\n",
    "\n",
    "    # TGA curve\n",
    "    ax1.plot(\n",
    "        df_tga[\"Temperature\"],\n",
    "        df_tga[\"Weight%\"],\n",
    "        color=\"tab:blue\",\n",
    "        linewidth=2,\n",
    "        label=\"TGA (Weight%)\"\n",
    "    )\n",
    "    ax1.set_xlabel(\"Temperature (°C)\")\n",
    "    ax1.set_ylabel(\"Weight (%)\", color=\"tab:blue\")\n",
    "    ax1.tick_params(axis=\"y\", labelcolor=\"tab:blue\")\n",
    "\n",
    "    # vertical temperature window\n",
    "    ax1.axvspan(x_start, x_end, color=\"gray\", alpha=0.3)\n",
    "\n",
    "    # horizontal weight region\n",
    "    ymin, ymax = sorted([w_start, w_end])\n",
    "    ax1.axhspan(ymin, ymax, color=\"tab:blue\", alpha=0.2)\n",
    "\n",
    "    # annotate ΔWeight\n",
    "    xlim = ax1.get_xlim()\n",
    "    x_annot = xlim[0] + 0.02 * (xlim[1] - xlim[0])\n",
    "    y_mid = (w_start + w_end) / 2\n",
    "    ax1.text(\n",
    "        x_annot, y_mid,\n",
    "        f\"ΔWeight = {weight_diff:.2f}%\",\n",
    "        color=\"tab:blue\",\n",
    "        fontsize=11,\n",
    "        va=\"center\",\n",
    "        bbox=dict(facecolor=\"white\", edgecolor=\"tab:blue\", alpha=0.5, boxstyle=\"round\")\n",
    "    )\n",
    "\n",
    "    # DTG curve on twin axis\n",
    "    ax2 = ax1.twinx()\n",
    "    ax2.plot(\n",
    "        df_dtg[\"Temperature\"],\n",
    "        df_dtg[\"DTG\"],\n",
    "        color=\"tab:red\",\n",
    "        linestyle=\"--\",\n",
    "        linewidth=2,\n",
    "        label=\"DTG (%/min)\"\n",
    "    )\n",
    "    ax2.set_ylabel(\"DTG (%/min)\", color=\"tab:red\")\n",
    "    ax2.tick_params(axis=\"y\", labelcolor=\"tab:red\")\n",
    "\n",
    "    # legend\n",
    "    h1, l1 = ax1.get_legend_handles_labels()\n",
    "    h2, l2 = ax2.get_legend_handles_labels()\n",
    "    ax1.legend(h1+h2, l1+l2, loc=\"upper right\")\n",
    "\n",
    "    plt.title(\"Overlaid TGA & DTG with Highlighted Zones\")\n",
    "    plt.grid(True, linestyle=\"--\", alpha=0.6)\n",
    "    plt.tight_layout()\n",
    "    plt.show()\n",
    "\n",
    "    # return the weight difference\n",
    "    return weight_diff"
   ]
  },
  {
   "cell_type": "markdown",
   "id": "7980ad39",
   "metadata": {},
   "source": [
    "# Before carbonation:"
   ]
  },
  {
   "cell_type": "code",
   "execution_count": 4,
   "id": "a55386e5",
   "metadata": {},
   "outputs": [
    {
     "data": {
      "application/vnd.jupyter.widget-view+json": {
       "model_id": "da8f7b67c1434e258cbe516966c6a8a2",
       "version_major": 2,
       "version_minor": 0
      },
      "text/plain": [
       "interactive(children=(FloatText(value=450.0, description='Start (°C)'), FloatText(value=750.0, description='En…"
      ]
     },
     "metadata": {},
     "output_type": "display_data"
    }
   ],
   "source": [
    "# ─── Cell 2: interactive controls ───────────────────────────────────────────────\n",
    "from ipywidgets import interact, FloatText, fixed\n",
    "\n",
    "# adjust these two strings if your files live elsewhere\n",
    "TGA_FILE = \"TG_ExpDat_B30B70D28; 13-1-2025-2.csv\"\n",
    "DTG_FILE = \"DG_ExpDat_B30B70D28; 13-1-2025-2.csv\"\n",
    "\n",
    "@interact(\n",
    "    x_start = FloatText(450.0, description=\"Start (°C)\"),\n",
    "    x_end   = FloatText(750.0, description=\"End (°C)\")\n",
    ")\n",
    "def _update(x_start, x_end):\n",
    "    dW = plot_tga_dtg_zone(\n",
    "        tga_file=TGA_FILE,\n",
    "        dtg_file=DTG_FILE,\n",
    "        x_start=x_start,\n",
    "        x_end=x_end,\n",
    "        skiprows=30\n",
    "    )\n",
    "    print(f\"Weight loss between {x_start:.1f}°C and {x_end:.1f}°C: {dW:.2f}%\");\n"
   ]
  },
  {
   "cell_type": "markdown",
   "id": "19fa3d3e",
   "metadata": {},
   "source": [
    "# After carbonation"
   ]
  },
  {
   "cell_type": "code",
   "execution_count": 5,
   "id": "0ff41c30",
   "metadata": {},
   "outputs": [
    {
     "data": {
      "application/vnd.jupyter.widget-view+json": {
       "model_id": "746e8a7d6a994ca6b18b949daae5ad7e",
       "version_major": 2,
       "version_minor": 0
      },
      "text/plain": [
       "interactive(children=(FloatText(value=450.0, description='Start (°C)'), FloatText(value=750.0, description='En…"
      ]
     },
     "metadata": {},
     "output_type": "display_data"
    }
   ],
   "source": [
    "# ─── Cell 2: interactive controls ───────────────────────────────────────────────\n",
    "from ipywidgets import interact, FloatText, fixed\n",
    "\n",
    "# adjust these two strings if your files live elsewhere\n",
    "TGA_FILE = \"TG_ExpDat_B50S50DC28; 13-2-2025-2.csv\"\n",
    "DTG_FILE = \"DG_ExpDat_B30S70DC28; 13-2-2025-2.csv\"\n",
    "\n",
    "@interact(\n",
    "    x_start = FloatText(450.0, description=\"Start (°C)\"),\n",
    "    x_end   = FloatText(750.0, description=\"End (°C)\")\n",
    ")\n",
    "def _update(x_start, x_end):\n",
    "    dW = plot_tga_dtg_zone(\n",
    "        tga_file=TGA_FILE,\n",
    "        dtg_file=DTG_FILE,\n",
    "        x_start=x_start,\n",
    "        x_end=x_end,\n",
    "        skiprows=30\n",
    "    )\n",
    "    print(f\"Weight loss between {x_start:.1f}°C and {x_end:.1f}°C: {dW:.2f}%\");\n"
   ]
  },
  {
   "cell_type": "code",
   "execution_count": null,
   "id": "028a66a2",
   "metadata": {},
   "outputs": [],
   "source": []
  }
 ],
 "metadata": {
  "kernelspec": {
   "display_name": "Python 3",
   "language": "python",
   "name": "python3"
  },
  "language_info": {
   "codemirror_mode": {
    "name": "ipython",
    "version": 3
   },
   "file_extension": ".py",
   "mimetype": "text/x-python",
   "name": "python",
   "nbconvert_exporter": "python",
   "pygments_lexer": "ipython3",
   "version": "3.11.2"
  }
 },
 "nbformat": 4,
 "nbformat_minor": 5
}
